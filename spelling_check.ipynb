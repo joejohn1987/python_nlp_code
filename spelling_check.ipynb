{
 "cells": [
  {
   "cell_type": "markdown",
   "metadata": {},
   "source": [
    "# Spelling Check\n",
    "\n",
    "In NLP tasks, misspelling is a common problem. For example, 'I ate an appel.', in this sentence, human could easily tell 'appel' is a misspelling of 'apple'. However, computer will treat it as different word no matter how close it is. In this script, we will impletement a simple spelling correction tool."
   ]
  },
  {
   "cell_type": "markdown",
   "metadata": {},
   "source": [
    "## Levenshtein_distance\n",
    "\n",
    "One common method to know how similar the spelling is Levenshtein_distance. \n",
    "It measure how many steps to modify word a to word b by insertions, deletions, or substitutions.\n",
    "Read more on https://en.wikipedia.org/wiki/Levenshtein_distance"
   ]
  },
  {
   "cell_type": "code",
   "execution_count": 24,
   "metadata": {
    "collapsed": true
   },
   "outputs": [],
   "source": [
    "def levenshtein(s1, s2):\n",
    "    if len(s1) < len(s2):\n",
    "        return levenshtein(s2, s1)\n",
    "\n",
    "    # len(s1) >= len(s2)\n",
    "    if len(s2) == 0:\n",
    "        return len(s1)\n",
    "\n",
    "    previous_row = range(len(s2) + 1)\n",
    "    for i, c1 in enumerate(s1):\n",
    "        current_row = [i + 1]\n",
    "        for j, c2 in enumerate(s2):\n",
    "            # j+1 instead of j since previous_row and current_row are one character longer than s2\n",
    "            insertions = previous_row[j + 1] + 1 \n",
    "            deletions = current_row[j] + 1       \n",
    "            substitutions = previous_row[j] + (c1 != c2)\n",
    "            current_row.append(min(insertions, deletions, substitutions))\n",
    "        previous_row = current_row\n",
    "    \n",
    "    return previous_row[-1]"
   ]
  },
  {
   "cell_type": "code",
   "execution_count": 25,
   "metadata": {
    "collapsed": false
   },
   "outputs": [
    {
     "name": "stdout",
     "output_type": "stream",
     "text": [
      "The levenshtein distance between appel and apple is: 2\n"
     ]
    }
   ],
   "source": [
    "word_a = 'appel'\n",
    "word_b = 'apple'\n",
    "print('The levenshtein distance between %s and %s is:'%(word_a, word_b), levenshtein(word_a, word_b))"
   ]
  },
  {
   "cell_type": "markdown",
   "metadata": {},
   "source": [
    "Now we need a dictionary to tell if the spelling is correct."
   ]
  },
  {
   "cell_type": "code",
   "execution_count": 27,
   "metadata": {
    "collapsed": false
   },
   "outputs": [
    {
     "name": "stdout",
     "output_type": "stream",
     "text": [
      "['a', 'a', 'aa', 'aal', 'aalii', 'aam', 'aani', 'aardvark', 'aardwolf', 'aaron']\n"
     ]
    }
   ],
   "source": [
    "def get_dict(path):\n",
    "    words = []\n",
    "    with open(path) as f:\n",
    "        for line in f:\n",
    "            words.append(line.strip().lower())\n",
    "    return words\n",
    "en_words = get_dict('data/english-words')\n",
    "print(en_words[:10])"
   ]
  },
  {
   "cell_type": "code",
   "execution_count": 28,
   "metadata": {
    "collapsed": false
   },
   "outputs": [
    {
     "name": "stdout",
     "output_type": "stream",
     "text": [
      "appel not in dictionary!\n"
     ]
    },
    {
     "data": {
      "text/plain": [
       "False"
      ]
     },
     "execution_count": 28,
     "metadata": {},
     "output_type": "execute_result"
    }
   ],
   "source": [
    "def check_spelling(word, word_list):\n",
    "    if word in word_list:\n",
    "        print(word, 'is a word!')\n",
    "        return True\n",
    "    else:\n",
    "        print(word, 'not in dictionary!')\n",
    "        return False\n",
    "    \n",
    "check_spelling('appel', en_words)"
   ]
  },
  {
   "cell_type": "code",
   "execution_count": null,
   "metadata": {
    "collapsed": false
   },
   "outputs": [
    {
     "name": "stdout",
     "output_type": "stream",
     "text": [
      "appel not in dictionary!\n",
      "Do you mean one of the following words?\n"
     ]
    }
   ],
   "source": [
    "def correction(word_a, word_list, threshold = 2):\n",
    "    if check_spelling(word_a, word_list):\n",
    "        return None\n",
    "    print(\"Do you mean one of the following words?\")\n",
    "    candidates = []\n",
    "    for word_b in word_list:\n",
    "        if levenshtein(word_a, word_b) <= threshold:\n",
    "            candidates.append(word_b)\n",
    "    print(candidates)\n",
    "    return candidates\n",
    "\n",
    "correction('appel', en_words, 1)"
   ]
  },
  {
   "cell_type": "code",
   "execution_count": null,
   "metadata": {
    "collapsed": true
   },
   "outputs": [],
   "source": []
  }
 ],
 "metadata": {
  "kernelspec": {
   "display_name": "Python 3",
   "language": "python",
   "name": "python3"
  },
  "language_info": {
   "codemirror_mode": {
    "name": "ipython",
    "version": 3
   },
   "file_extension": ".py",
   "mimetype": "text/x-python",
   "name": "python",
   "nbconvert_exporter": "python",
   "pygments_lexer": "ipython3",
   "version": "3.6.0"
  }
 },
 "nbformat": 4,
 "nbformat_minor": 2
}
